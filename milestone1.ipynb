{
  "nbformat": 4,
  "nbformat_minor": 0,
  "metadata": {
    "colab": {
      "provenance": [],
      "collapsed_sections": [],
      "include_colab_link": true
    },
    "kernelspec": {
      "name": "python3",
      "display_name": "Python 3"
    },
    "language_info": {
      "name": "python"
    }
  },
  "cells": [
    {
      "cell_type": "markdown",
      "metadata": {
        "id": "view-in-github",
        "colab_type": "text"
      },
      "source": [
        "<a href=\"https://colab.research.google.com/github/juneman44/milestone1/blob/milestone1/milestone1.ipynb\" target=\"_parent\"><img src=\"https://colab.research.google.com/assets/colab-badge.svg\" alt=\"Open In Colab\"/></a>"
      ]
    },
    {
      "cell_type": "code",
      "execution_count": null,
      "metadata": {
        "id": "7MA05A5f1zKp",
        "colab": {
          "base_uri": "https://localhost:8080/"
        },
        "outputId": "2106f368-64e8-4e09-90f5-bba66196767b"
      },
      "outputs": [
        {
          "output_type": "execute_result",
          "data": {
            "text/plain": [
              "{'A': 20, 'C': 12, 'G': 17, 'T': 21}"
            ]
          },
          "metadata": {},
          "execution_count": 3
        }
      ],
      "source": [
        "def s(dna):\n",
        "  dna = dna.upper()\n",
        "  count_A = dna.count('A')\n",
        "  count_C = dna.count('C')\n",
        "  count_G = dna.count('G')\n",
        "  count_T = dna.count('T')\n",
        "  answer = {'A':count_A, 'C':count_C, 'G':count_G, 'T':count_T}\n",
        "  return answer\n",
        "\n",
        "s(\"AGCTTTTCATTCTGACTGCAACGGGCAATATGTCTCTGTGTGGATTAAAAAAAGAGTGTCTGATAGCAGC\")\n",
        "\n",
        "##DONE"
      ]
    },
    {
      "cell_type": "code",
      "source": [
        "def dna2rna(dna):\n",
        "    rna = ''\n",
        "    rna=rna.upper()\n",
        "    for symbol in dna:\n",
        "        if symbol == 'A':\n",
        "              rna = rna + 'A'\n",
        "        elif symbol == 'T':\n",
        "              rna = rna + 'U'\n",
        "        elif symbol == 'G':\n",
        "              rna = rna + 'G'\n",
        "        elif symbol == 'C':\n",
        "              rna = rna + 'C'\n",
        "    return rna\n",
        "    \n",
        "print (dna2rna(\"GATGGAACTTGACTACGTAAATT\"))\n",
        "##DONE"
      ],
      "metadata": {
        "id": "a_mVMgB357aK",
        "colab": {
          "base_uri": "https://localhost:8080/"
        },
        "outputId": "c4b8f583-3436-4519-badd-073444f7c045"
      },
      "execution_count": null,
      "outputs": [
        {
          "output_type": "stream",
          "name": "stdout",
          "text": [
            "GAUGGAACUUGACUACGUAAAUU\n"
          ]
        }
      ]
    },
    {
      "cell_type": "code",
      "source": [
        "def reverse_complement(dna):\n",
        "    reverse = ''\n",
        "    for dna2 in dna:\n",
        "        if dna2 == 'A':\n",
        "              dna2 ='T'\n",
        "        elif dna2 == 'T':\n",
        "              dna2 ='A'\n",
        "        elif dna2 == 'G':\n",
        "              dna2 ='C'\n",
        "        elif dna2 == 'C':\n",
        "              dna2 ='G'    \n",
        "        reverse = dna2 + reverse\n",
        "    return reverse\n",
        "print(reverse_complement(\"AAAACCCGGT\"))\n",
        "\n",
        "##DONE\n"
      ],
      "metadata": {
        "id": "dRRG3JpN6Bh3",
        "colab": {
          "base_uri": "https://localhost:8080/"
        },
        "outputId": "ce2a5814-bcf7-4017-b74b-7d6bc37243f1"
      },
      "execution_count": null,
      "outputs": [
        {
          "output_type": "stream",
          "name": "stdout",
          "text": [
            "ACCGGGTTTT\n"
          ]
        }
      ]
    },
    {
      "cell_type": "code",
      "source": [
        "def mendels_law(hom, het, rec):\n",
        "    total = hom + het + rec # total pop\n",
        "    \n",
        "    rec_hom= 4*rec*hom + 4*hom*rec  # rec&hom produce 4/4 dom traits\n",
        "    hom_het= 4*hom*het + 4*het*hom  # hom&het produce 4/4 dom traits\n",
        "    rec_het= 2*rec*het + 2*het*rec  # rec&het produce 2/4 dom traits\n",
        "    rec_rec= 0*rec*rec  # rec&rec produce 0/4 dom traits\n",
        "    het_het= 3*het*het - 3*het # het&het produce 3/4 dom traits\n",
        "    hom_hom= 4*hom*hom - 4*hom # hom&hom produce 4/4 dom traits\n",
        "    prob = (rec_hom+hom_het+rec_het+rec_rec+het_het+hom_hom)/(4*total**2-4*total)\n",
        "    return prob\n",
        "\n",
        "print(mendels_law(2, 2, 2))\n",
        "print(mendels_law(1, 1, 0))\n",
        "print(mendels_law(4, 0, 2))\n",
        "print(mendels_law(0, 4, 0))\n",
        "# DONE\n"
      ],
      "metadata": {
        "id": "Ze2oqNlr7ip0",
        "colab": {
          "base_uri": "https://localhost:8080/"
        },
        "outputId": "91ec0687-73d1-497b-b509-f11aaaa55d63"
      },
      "execution_count": null,
      "outputs": [
        {
          "output_type": "stream",
          "name": "stdout",
          "text": [
            "0.7833333333333333\n",
            "1.0\n",
            "0.9333333333333333\n",
            "0.75\n"
          ]
        }
      ]
    },
    {
      "cell_type": "code",
      "source": [
        "def fibonacci_rabbits(n, k):   \n",
        "    if n==0:\n",
        "        baby = 0\n",
        "    elif n==1:\n",
        "        baby = 1\n",
        "    else:\n",
        "        baby = fibonacci_rabbits(n-2, k)*k + fibonacci_rabbits(n-1, k)\n",
        "    return baby\n",
        "\n",
        "print(fibonacci_rabbits(1, 3))\n",
        "print(fibonacci_rabbits(2, 3))\n",
        "print(fibonacci_rabbits(3, 3))\n",
        "print(fibonacci_rabbits(4, 3))\n",
        "print(fibonacci_rabbits(5, 3))\n",
        "print(fibonacci_rabbits(6, 3))\n",
        "\n",
        "##DONE"
      ],
      "metadata": {
        "id": "MmisBxNyoZvi",
        "colab": {
          "base_uri": "https://localhost:8080/"
        },
        "outputId": "bd99b4c1-3c9a-4d79-fa78-5f5611193f54"
      },
      "execution_count": null,
      "outputs": [
        {
          "output_type": "stream",
          "name": "stdout",
          "text": [
            "1\n",
            "1\n",
            "4\n",
            "7\n",
            "19\n",
            "40\n"
          ]
        }
      ]
    },
    {
      "cell_type": "code",
      "source": [
        "def gc_content(dna_list):\n",
        "  \n",
        "    \n",
        "  \n",
        "  #idk what im doing here\n",
        "  #need a way to pick the maximum one and to get the index of the dna string with the highest\n",
        "  \n"
      ],
      "metadata": {
        "id": "beibAPKXoeSX"
      },
      "execution_count": null,
      "outputs": []
    },
    {
      "cell_type": "code",
      "source": [
        "def rna2codon(rna):\n",
        "    def rnacodon(triplet):\n",
        "        genetic_code = {\n",
        "        'UUU': 'F', 'UUC': 'F', 'UUA': 'L', 'UUG': 'L',        'CUU': 'L', 'CUC': 'L', 'CUA': 'L', 'CUG': 'L',\n",
        "        'AUU': 'I', 'AUC': 'I', 'AUA': 'I', 'AUG': 'M',        'GUU': 'V', 'GUC': 'V', 'GUA': 'V', 'GUG': 'V',\n",
        "\n",
        "        'UCU': 'S', 'UCC': 'S', 'UCA': 'S', 'UCG': 'S',        'CCU': 'P', 'CCC': 'P', 'CCA': 'P', 'CCG': 'P',\n",
        "        'ACU': 'T', 'ACC': 'T', 'ACA': 'T', 'ACG': 'T',        'GCU': 'A', 'GCC': 'A', 'GCA': 'A', 'GCG': 'A',\n",
        "\n",
        "        'UAU': 'Y', 'UAC': 'Y', 'UAA': '*', 'UAG': '*',        'CAU': 'H', 'CAC': 'H', 'CAA': 'Q', 'CAG': 'Q',\n",
        "        'AAU': 'N', 'AAC': 'N', 'AAA': 'K', 'AAG': 'K',        'GAU': 'D', 'GAC': 'D', 'GAA': 'E', 'GAG': 'E',\n",
        "\n",
        "        'UGU': 'C', 'UGC': 'C', 'UGA': '*', 'UGG': 'W',        'CGU': 'R', 'CGC': 'R', 'CGA': 'R', 'CGG': 'R',\n",
        "        'AGU': 'S', 'AGC': 'S', 'AGA': 'R', 'AGG': 'R',        'GGU': 'G', 'GGC': 'G', 'GGA': 'G', 'GGG': 'G',\n",
        "        }\n",
        "        allowed_codons = set('ACGU')\n",
        "    \n",
        "        if triplet in genetic_code:\n",
        "            return genetic_code[triplet] #turns triplet into codon letter  \n",
        "        else:\n",
        "            return \"Invalid\" #only allows valid triplets in genetic code\n",
        "    amino = ''\n",
        "    for i in range( 0,int( len( rna ) / 3 ) ): #splits into triplets\n",
        "        triplet = (rna[ 3*i:3*i+3 ] )\n",
        "            \n",
        "        amino += rnacodon(triplet) #calls rnacodon function to check for triplet and add to amino string\n",
        "        \n",
        "            \n",
        "    return amino\n",
        "    \n",
        "print (rna2codon(\"AUGGCCAUGGCGCCCAGAACUGAGAUCAAUAGUACCCGUAUUAACGGGUGA\"))\n",
        "\n",
        "##DONE\n"
      ],
      "metadata": {
        "id": "nxSjquxL9aLr",
        "outputId": "570b6e4a-2f2c-4779-9a9d-9ec218ce72be",
        "colab": {
          "base_uri": "https://localhost:8080/"
        }
      },
      "execution_count": null,
      "outputs": [
        {
          "output_type": "stream",
          "name": "stdout",
          "text": [
            "MAMAPRTEINSTRING*\n"
          ]
        }
      ]
    },
    {
      "cell_type": "code",
      "source": [
        "def locate_substring(dna_snippet, dna):\n",
        "    answer = []\n",
        "    index = 0\n",
        "    i = 0\n",
        "    while (i < len(dna)):\n",
        "        index = dna.find(dna_snippet, index) # find out if the snippet exisits at the given index\n",
        "        if index == -1: # if snippet doesnt exist = -1, break and go back to the loop\n",
        "            break\n",
        "        else: # if snippet does exist, add the index to the answer list\n",
        "            answer.append(index)\n",
        "       \n",
        "        i= i+1 \n",
        "        index= index+1\n",
        "    return answer \n",
        "\n",
        "print(locate_substring(\"ATAT\", \"GATATATGCATATACTT\")) \n",
        "\n",
        "##DONE"
      ],
      "metadata": {
        "colab": {
          "base_uri": "https://localhost:8080/"
        },
        "id": "y9GGNJYco3i8",
        "outputId": "d4a9f452-f9ad-4fce-a8c0-3667461028ba"
      },
      "execution_count": null,
      "outputs": [
        {
          "output_type": "stream",
          "name": "stdout",
          "text": [
            "1\n"
          ]
        }
      ]
    },
    {
      "cell_type": "code",
      "source": [
        "def hamming_dist(dna1, dna2):\n",
        "    count = 0\n",
        "    i = 0\n",
        "    while i<len(dna1): #loop for the whole length\n",
        "        if dna1[i] != dna2[i]: \n",
        "            count += 1 #if they arent equal, add 1 to the count\n",
        "        else:\n",
        "            count = count\n",
        "        i += 1\n",
        "    return count\n",
        "\n",
        "print(hamming_dist(\"GAGCCTACTAACGGGAT\",\"CATCGTAATGACGGCCT\"))\n",
        "##DONE"
      ],
      "metadata": {
        "id": "LgCw4t20pPXs",
        "colab": {
          "base_uri": "https://localhost:8080/"
        },
        "outputId": "f3cea7b7-80f7-4398-e89e-4356470bd9ef"
      },
      "execution_count": null,
      "outputs": [
        {
          "output_type": "stream",
          "name": "stdout",
          "text": [
            "7\n"
          ]
        }
      ]
    },
    {
      "cell_type": "code",
      "source": [
        "def count_dom_phenotype(genotypes):\n",
        "  # add each pairing multiplied by the amount of dominant offspring\n",
        "  count = genotypes[0]*2 + genotypes[1]*2 + genotypes[2]*2 + genotypes[3]*1.5 + genotypes[4]*1 + genotypes[5]*0 \n",
        "  return count\n",
        "\n",
        "print(count_dom_phenotype([1, 0, 0, 1, 0, 1]))\n",
        "##DONE"
      ],
      "metadata": {
        "id": "XxoZZNtEpSuB",
        "colab": {
          "base_uri": "https://localhost:8080/"
        },
        "outputId": "2da9ca88-0f34-4c97-f22c-0c8784bb066d"
      },
      "execution_count": null,
      "outputs": [
        {
          "output_type": "stream",
          "name": "stdout",
          "text": [
            "3.5\n"
          ]
        }
      ]
    },
    {
      "cell_type": "code",
      "source": [
        "def source_rna(protein):\n",
        "    total = 1\n",
        "    i = 0\n",
        "     # create a dictionary of all the different letters with their individual possibilities\n",
        "    genetic_dict = { 'F': 2, 'L': 6, 'I': 3, 'M': 1, 'V': 4, 'S': 6, 'P': 4, 'T':4, 'A': 4, 'Y': 2, 'H': 2, 'Q': 2, 'N': 2, \n",
        "                     'K': 2, 'D': 2, 'E': 2, 'C': 2, 'W': 1, 'R': 6, 'G': 4\n",
        "                   }\n",
        "    while i < len(protein): #continue the loop for the length of the protein\n",
        "        total = total*genetic_dict[protein[i]] #total is the amount of times for each letter\n",
        "        i +=1\n",
        "    return total*3 # multiply by three\n",
        "print(source_rna(\"CMDA\"))\n",
        "\n",
        "##DONE\n",
        "    "
      ],
      "metadata": {
        "id": "Hqd5vUhMpVsR"
      },
      "execution_count": null,
      "outputs": []
    },
    {
      "cell_type": "code",
      "source": [
        "def splice_rna(dna, intron_list):\n",
        "  for intron in intron_list:\n",
        "    dna = dna.replace(intron, \"\") #remove all the intron lists from the dna string\n",
        "  rna = dna2rna(dna)\n",
        "  return rna2codon(rna)\n",
        "\n",
        "##DONE"
      ],
      "metadata": {
        "id": "O4HNDXh_pX_o",
        "colab": {
          "base_uri": "https://localhost:8080/"
        },
        "outputId": "a4b945db-17f5-4ade-a7e6-8e3d1d8ae3e7"
      },
      "execution_count": null,
      "outputs": [
        {
          "output_type": "stream",
          "name": "stdout",
          "text": [
            "MVYIADKQHVASREAYGHMFKVCA*\n"
          ]
        }
      ]
    }
  ]
}