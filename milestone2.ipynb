{
  "nbformat": 4,
  "nbformat_minor": 0,
  "metadata": {
    "colab": {
      "provenance": [],
      "authorship_tag": "ABX9TyO8df6Uf4x323Z3t15bkdYX",
      "include_colab_link": true
    },
    "kernelspec": {
      "name": "python3",
      "display_name": "Python 3"
    },
    "language_info": {
      "name": "python"
    }
  },
  "cells": [
    {
      "cell_type": "markdown",
      "metadata": {
        "id": "view-in-github",
        "colab_type": "text"
      },
      "source": [
        "<a href=\"https://colab.research.google.com/github/juneman44/milestone1/blob/milestone1/milestone2.ipynb\" target=\"_parent\"><img src=\"https://colab.research.google.com/assets/colab-badge.svg\" alt=\"Open In Colab\"/></a>"
      ]
    },
    {
      "cell_type": "code",
      "execution_count": null,
      "metadata": {
        "id": "-zbXRNpkO8s2"
      },
      "outputs": [],
      "source": [
        "def find_splice(dna_motif, dna):\n",
        "    answer = []\n",
        "    index = 0\n",
        "    for x in range(len(dna_motif)):\n",
        "        while dna_motif[x]!=dna[index]:  #keep going through the DNA when they aren't the same\n",
        "            index+=1\n",
        "        answer.append(index)\n",
        "    return answer"
      ]
    },
    {
      "cell_type": "code",
      "source": [
        "def shared_motif(dna_list):\n",
        "  substring = ''\n",
        "  if len(dna_list[0]) > 0 and len(dna_list) > 1:\n",
        "    for x in range(len(dna_list[0])):\n",
        "      for y in range(len(dna_list[0])-x+1):\n",
        "        if y > len(substring) and is_substring(dna_list[0][x:x+y], dna_list):\n",
        "          substring = dna_list[0][x:x+y]\n",
        "    return substring"
      ],
      "metadata": {
        "id": "mRzGQuOJPALm"
      },
      "execution_count": null,
      "outputs": []
    },
    {
      "cell_type": "code",
      "source": [
        "def get_edges(dna_dict):\n",
        "  answer = []\n",
        "  for key, sequence in dna_dict.items():\n",
        "    for key_, sequence_ in dna_dict.items():\n",
        "      # keys do not equal each other and not same sequence and last 3 letters = first 3 letters of _\n",
        "      if key != key_ and sequence != sequence_ and sequence[-3:] == sequence_[:3]: \n",
        "        answer.append((key,key_)) \n",
        "      else:\n",
        "        continue\n",
        "  return answer"
      ],
      "metadata": {
        "id": "EqC9Q-uQPDmp"
      },
      "execution_count": null,
      "outputs": []
    },
    {
      "cell_type": "code",
      "source": [
        "def assemble_genome(dna_list): \n",
        "    substring = dna_list[0] \n",
        "    \n",
        "    for x in range(1, len(dna_list)): \n",
        "        dna = dna_list[x]\n",
        "        for y in range(0, len(dna)): \n",
        "            if dna[0:y+1] not in substring: \n",
        "                substring += dna[y:len(dna)]\n",
        "                \n",
        "    return substring"
      ],
      "metadata": {
        "id": "ei5k1SBVPp2V"
      },
      "execution_count": null,
      "outputs": []
    },
    {
      "cell_type": "code",
      "source": [
        "def perfect_match(rna):\n",
        "  import math\n",
        "  A=0\n",
        "  U=0\n",
        "  C=0\n",
        "  G=0\n",
        "  for part in rna: #count the number of each letter in the string by going through each part\n",
        "      if part == 'A':\n",
        "          A+=1\n",
        "      if part == 'U':\n",
        "          U+=1\n",
        "      if part == 'C':\n",
        "          C+=1\n",
        "      if part == 'G':\n",
        "          G+=1\n",
        "  if A==U and C==G:  # compare to see if there is enough to be a perfect match\n",
        "      AU=math.factorial(U)\n",
        "      CG=math.factorial(G)\n",
        "      return AU*CG\n",
        "  else:\n",
        "      return 0"
      ],
      "metadata": {
        "id": "vwA73jVaPs7B"
      },
      "execution_count": null,
      "outputs": []
    }
  ]
}